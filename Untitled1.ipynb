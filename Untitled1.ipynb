{
 "cells": [
  {
   "cell_type": "code",
   "execution_count": 11,
   "metadata": {},
   "outputs": [
    {
     "data": {
      "text/plain": [
       "5"
      ]
     },
     "execution_count": 11,
     "metadata": {},
     "output_type": "execute_result"
    }
   ],
   "source": [
    "len(\"teste\")"
   ]
  },
  {
   "cell_type": "code",
   "execution_count": 24,
   "metadata": {},
   "outputs": [],
   "source": [
    "texto =\"In the beginning God created the heavens and the earth. Now the earth was formless and empty, darkness was over the surface of the deep, and the Spirit of God was hovering over the waters.\""
   ]
  },
  {
   "cell_type": "code",
   "execution_count": 25,
   "metadata": {},
   "outputs": [],
   "source": [
    "tokens = texto.split(\" \")"
   ]
  },
  {
   "cell_type": "code",
   "execution_count": 26,
   "metadata": {},
   "outputs": [
    {
     "data": {
      "text/plain": [
       "['In',\n",
       " 'the',\n",
       " 'beginning',\n",
       " 'God',\n",
       " 'created',\n",
       " 'the',\n",
       " 'heavens',\n",
       " 'and',\n",
       " 'the',\n",
       " 'earth.',\n",
       " 'Now',\n",
       " 'the',\n",
       " 'earth',\n",
       " 'was',\n",
       " 'formless',\n",
       " 'and',\n",
       " 'empty,',\n",
       " 'darkness',\n",
       " 'was',\n",
       " 'over',\n",
       " 'the',\n",
       " 'surface',\n",
       " 'of',\n",
       " 'the',\n",
       " 'deep,',\n",
       " 'and',\n",
       " 'the',\n",
       " 'Spirit',\n",
       " 'of',\n",
       " 'God',\n",
       " 'was',\n",
       " 'hovering',\n",
       " 'over',\n",
       " 'the',\n",
       " 'waters.']"
      ]
     },
     "execution_count": 26,
     "metadata": {},
     "output_type": "execute_result"
    }
   ],
   "source": [
    "tokens"
   ]
  },
  {
   "cell_type": "code",
   "execution_count": 27,
   "metadata": {},
   "outputs": [
    {
     "name": "stdout",
     "output_type": "stream",
     "text": [
      "In the beginning God created the heavens\n",
      "and the earth. Now the earth was formless\n",
      "and empty, darkness was over the surface\n",
      "of the deep, and the Spirit of God was hovering over the waters. \n",
      "[]\n"
     ]
    }
   ],
   "source": [
    "finalword = \"\"\n",
    "text = \"\"\n",
    "while(len(tokens) > 0):\n",
    "    temp = tokens\n",
    "    for word in temp:\n",
    "        if((len(finalword) + len(word))<=40):\n",
    "            finalword += tokens.pop(0)\n",
    "        else:\n",
    "            break\n",
    "\n",
    "        if((len(finalword)+1)<=40):\n",
    "            finalword +=\" \"            \n",
    "        else:\n",
    "            finalword +=\"\\n\"\n",
    "            break\n",
    "\n",
    "    text += finalword\n",
    "    finalword = \"\"\n",
    "\n",
    "print(text)\n",
    "print(tokens)"
   ]
  },
  {
   "cell_type": "code",
   "execution_count": 16,
   "metadata": {},
   "outputs": [
    {
     "data": {
      "text/plain": [
       "list"
      ]
     },
     "execution_count": 16,
     "metadata": {},
     "output_type": "execute_result"
    }
   ],
   "source": [
    "type(tokens)"
   ]
  },
  {
   "cell_type": "code",
   "execution_count": 15,
   "metadata": {},
   "outputs": [
    {
     "data": {
      "text/plain": [
       "35"
      ]
     },
     "execution_count": 15,
     "metadata": {},
     "output_type": "execute_result"
    }
   ],
   "source": [
    "len(tokens)"
   ]
  },
  {
   "cell_type": "code",
   "execution_count": 65,
   "metadata": {},
   "outputs": [],
   "source": [
    "def findLastSpace(text, position):    \n",
    "    for i in reversed(range (0, position)):\n",
    "        if text[i] == \" \":\n",
    "            return i         \n",
    "\n",
    "\n",
    "def formate_text(textin,space):\n",
    "    \n",
    "    text= list(textin)\n",
    "    lastindex = 0\n",
    "    for i in range (space, len(text),space):\n",
    "        if text[i] == \" \":\n",
    "            text[i] = \"\\n\"\n",
    "            lastindex = i;\n",
    "        else:\n",
    "            idx = findLastSpace(text, i)\n",
    "            while((idx+lastindex)<=lastindex+40):\n",
    "                idx = findLastSpace(text, idx)\n",
    "            print(idx)   \n",
    "            text[idx] = \"\\n\"\n",
    "            lastindex = idx;\n",
    "            \n",
    "    print(\"\".join(text))"
   ]
  },
  {
   "cell_type": "code",
   "execution_count": 66,
   "metadata": {},
   "outputs": [
    {
     "name": "stdout",
     "output_type": "stream",
     "text": [
      "73\n",
      "115\n",
      "158\n",
      "In the beginning God created the heavens\n",
      "and the earth. Now the earth was\n",
      "formless and empty, darkness was over the\n",
      "surface of the deep, and the Spirit of God\n",
      "was hovering over the waters.\n"
     ]
    }
   ],
   "source": [
    "formate_text(texto,40)"
   ]
  },
  {
   "cell_type": "code",
   "execution_count": 57,
   "metadata": {},
   "outputs": [
    {
     "data": {
      "text/plain": [
       "2"
      ]
     },
     "execution_count": 57,
     "metadata": {},
     "output_type": "execute_result"
    }
   ],
   "source": [
    "120//41"
   ]
  },
  {
   "cell_type": "code",
   "execution_count": 51,
   "metadata": {},
   "outputs": [
    {
     "data": {
      "text/plain": [
       "6"
      ]
     },
     "execution_count": 51,
     "metadata": {},
     "output_type": "execute_result"
    }
   ],
   "source": [
    "120%38"
   ]
  },
  {
   "cell_type": "code",
   "execution_count": 52,
   "metadata": {},
   "outputs": [
    {
     "data": {
      "text/plain": [
       "3"
      ]
     },
     "execution_count": 52,
     "metadata": {},
     "output_type": "execute_result"
    }
   ],
   "source": [
    "120%39"
   ]
  },
  {
   "cell_type": "code",
   "execution_count": 53,
   "metadata": {},
   "outputs": [
    {
     "data": {
      "text/plain": [
       "0"
      ]
     },
     "execution_count": 53,
     "metadata": {},
     "output_type": "execute_result"
    }
   ],
   "source": [
    "120%40"
   ]
  },
  {
   "cell_type": "code",
   "execution_count": 56,
   "metadata": {},
   "outputs": [
    {
     "data": {
      "text/plain": [
       "6"
      ]
     },
     "execution_count": 56,
     "metadata": {},
     "output_type": "execute_result"
    }
   ],
   "source": [
    "120//20"
   ]
  },
  {
   "cell_type": "code",
   "execution_count": null,
   "metadata": {},
   "outputs": [],
   "source": []
  }
 ],
 "metadata": {
  "kernelspec": {
   "display_name": "Python 3",
   "language": "python",
   "name": "python3"
  },
  "language_info": {
   "codemirror_mode": {
    "name": "ipython",
    "version": 3
   },
   "file_extension": ".py",
   "mimetype": "text/x-python",
   "name": "python",
   "nbconvert_exporter": "python",
   "pygments_lexer": "ipython3",
   "version": "3.6.2"
  }
 },
 "nbformat": 4,
 "nbformat_minor": 2
}
