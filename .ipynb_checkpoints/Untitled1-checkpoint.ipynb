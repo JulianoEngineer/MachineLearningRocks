{
 "cells": [
  {
   "cell_type": "code",
   "execution_count": 11,
   "metadata": {},
   "outputs": [
    {
     "data": {
      "text/plain": [
       "5"
      ]
     },
     "execution_count": 11,
     "metadata": {},
     "output_type": "execute_result"
    }
   ],
   "source": [
    "len(\"teste\")"
   ]
  },
  {
   "cell_type": "code",
   "execution_count": 20,
   "metadata": {},
   "outputs": [],
   "source": [
    "texto =\"In the beginning God created the heavens and the earth. Now the earth was formless and empty, darkness was over the surface of the deep, and the Spirit of God was hovering over the waters.\""
   ]
  },
  {
   "cell_type": "code",
   "execution_count": 21,
   "metadata": {},
   "outputs": [],
   "source": [
    "tokens = texto.split(\" \")"
   ]
  },
  {
   "cell_type": "code",
   "execution_count": 22,
   "metadata": {},
   "outputs": [
    {
     "data": {
      "text/plain": [
       "['In',\n",
       " 'the',\n",
       " 'beginning',\n",
       " 'God',\n",
       " 'created',\n",
       " 'the',\n",
       " 'heavens',\n",
       " 'and',\n",
       " 'the',\n",
       " 'earth.',\n",
       " 'Now',\n",
       " 'the',\n",
       " 'earth',\n",
       " 'was',\n",
       " 'formless',\n",
       " 'and',\n",
       " 'empty,',\n",
       " 'darkness',\n",
       " 'was',\n",
       " 'over',\n",
       " 'the',\n",
       " 'surface',\n",
       " 'of',\n",
       " 'the',\n",
       " 'deep,',\n",
       " 'and',\n",
       " 'the',\n",
       " 'Spirit',\n",
       " 'of',\n",
       " 'God',\n",
       " 'was',\n",
       " 'hovering',\n",
       " 'over',\n",
       " 'the',\n",
       " 'waters.']"
      ]
     },
     "execution_count": 22,
     "metadata": {},
     "output_type": "execute_result"
    }
   ],
   "source": [
    "tokens"
   ]
  },
  {
   "cell_type": "code",
   "execution_count": 23,
   "metadata": {},
   "outputs": [
    {
     "name": "stdout",
     "output_type": "stream",
     "text": [
      "In \n",
      "the \n",
      "beginning \n",
      "God \n",
      "created \n",
      "the \n",
      "heavens \n",
      "and \n",
      "the \n",
      "earth. \n",
      "Now \n",
      "the \n",
      "earthwas \n",
      "formless \n",
      "and \n",
      "empty, \n",
      "darkness \n",
      "was \n",
      "over \n",
      "the \n",
      "surface \n",
      "of \n",
      "the \n",
      "deep,and \n",
      "the \n",
      "Spirit \n",
      "of \n",
      "God \n",
      "was \n",
      "hovering \n",
      "over \n",
      "the \n",
      "waters. \n",
      "\n",
      "[]\n"
     ]
    }
   ],
   "source": [
    "finalword = \"\"\n",
    "text = \"\"\n",
    "while(len(tokens) > 0):\n",
    "    temp = tokens\n",
    "    for word in temp:\n",
    "        if((len(finalword) + len(word))<=40):\n",
    "            finalword += tokens.pop(0)\n",
    "        else:\n",
    "            break\n",
    "\n",
    "        if((len(finalword)+1)<=40):\n",
    "            finalword +=\" \"            \n",
    "        else:\n",
    "            finalword +=\"\\n\"\n",
    "            break\n",
    "\n",
    "    text += finalword\n",
    "    finalword = \"\"\n",
    "\n",
    "print(text)\n",
    "print(tokens)"
   ]
  },
  {
   "cell_type": "code",
   "execution_count": 16,
   "metadata": {},
   "outputs": [
    {
     "data": {
      "text/plain": [
       "list"
      ]
     },
     "execution_count": 16,
     "metadata": {},
     "output_type": "execute_result"
    }
   ],
   "source": [
    "type(tokens)"
   ]
  },
  {
   "cell_type": "code",
   "execution_count": 15,
   "metadata": {},
   "outputs": [
    {
     "data": {
      "text/plain": [
       "35"
      ]
     },
     "execution_count": 15,
     "metadata": {},
     "output_type": "execute_result"
    }
   ],
   "source": [
    "len(tokens)"
   ]
  },
  {
   "cell_type": "code",
   "execution_count": null,
   "metadata": {},
   "outputs": [],
   "source": []
  }
 ],
 "metadata": {
  "kernelspec": {
   "display_name": "Python 3",
   "language": "python",
   "name": "python3"
  },
  "language_info": {
   "codemirror_mode": {
    "name": "ipython",
    "version": 3
   },
   "file_extension": ".py",
   "mimetype": "text/x-python",
   "name": "python",
   "nbconvert_exporter": "python",
   "pygments_lexer": "ipython3",
   "version": "3.6.2"
  }
 },
 "nbformat": 4,
 "nbformat_minor": 2
}
