{
 "cells": [
  {
   "cell_type": "code",
   "execution_count": 36,
   "metadata": {
    "collapsed": true
   },
   "outputs": [],
   "source": [
    "import seaborn as sns\n",
    "import glob as gb\n",
    "import os\n",
    "import pickle\n",
    "import sys\n",
    "import pandas as pd\n",
    "from Utils import utils\n",
    "from sklearn.preprocessing import StandardScaler\n",
    "from sklearn.cross_validation import train_test_split\n",
    "from sklearn.neighbors import KNeighborsClassifier\n",
    "from sklearn.metrics import classification_report, confusion_matrix\n",
    "import numpy as np\n",
    "import matplotlib.pyplot as plt"
   ]
  },
  {
   "cell_type": "code",
   "execution_count": 31,
   "metadata": {
    "collapsed": true
   },
   "outputs": [],
   "source": [
    "%matplotlib inline"
   ]
  },
  {
   "cell_type": "markdown",
   "metadata": {},
   "source": [
    "# Getting most recent file and read"
   ]
  },
  {
   "cell_type": "code",
   "execution_count": 4,
   "metadata": {
    "collapsed": true
   },
   "outputs": [],
   "source": [
    "Extract = utils()      \n",
    "dataframe = Extract.GetLastPickle()"
   ]
  },
  {
   "cell_type": "code",
   "execution_count": 5,
   "metadata": {},
   "outputs": [
    {
     "data": {
      "text/html": [
       "<div>\n",
       "<style>\n",
       "    .dataframe thead tr:only-child th {\n",
       "        text-align: right;\n",
       "    }\n",
       "\n",
       "    .dataframe thead th {\n",
       "        text-align: left;\n",
       "    }\n",
       "\n",
       "    .dataframe tbody tr th {\n",
       "        vertical-align: top;\n",
       "    }\n",
       "</style>\n",
       "<table border=\"1\" class=\"dataframe\">\n",
       "  <thead>\n",
       "    <tr style=\"text-align: right;\">\n",
       "      <th></th>\n",
       "      <th>0</th>\n",
       "      <th>1</th>\n",
       "      <th>2</th>\n",
       "      <th>3</th>\n",
       "      <th>4</th>\n",
       "      <th>5</th>\n",
       "      <th>6</th>\n",
       "      <th>7</th>\n",
       "      <th>8</th>\n",
       "      <th>9</th>\n",
       "      <th>...</th>\n",
       "      <th>2022</th>\n",
       "      <th>2023</th>\n",
       "      <th>2024</th>\n",
       "      <th>2025</th>\n",
       "      <th>2026</th>\n",
       "      <th>2027</th>\n",
       "      <th>2028</th>\n",
       "      <th>2029</th>\n",
       "      <th>2030</th>\n",
       "      <th>Label</th>\n",
       "    </tr>\n",
       "  </thead>\n",
       "  <tbody>\n",
       "    <tr>\n",
       "      <th>0</th>\n",
       "      <td>0.004348</td>\n",
       "      <td>0.004743</td>\n",
       "      <td>0.004743</td>\n",
       "      <td>0.004743</td>\n",
       "      <td>0.004743</td>\n",
       "      <td>0.004743</td>\n",
       "      <td>0.004743</td>\n",
       "      <td>0.004743</td>\n",
       "      <td>0.004743</td>\n",
       "      <td>0.004743</td>\n",
       "      <td>...</td>\n",
       "      <td>0.005138</td>\n",
       "      <td>0.005138</td>\n",
       "      <td>0.005138</td>\n",
       "      <td>0.004743</td>\n",
       "      <td>0.004743</td>\n",
       "      <td>0.005138</td>\n",
       "      <td>0.005138</td>\n",
       "      <td>0.005138</td>\n",
       "      <td>0.004743</td>\n",
       "      <td>oxigenio</td>\n",
       "    </tr>\n",
       "    <tr>\n",
       "      <th>1</th>\n",
       "      <td>0.004743</td>\n",
       "      <td>0.004743</td>\n",
       "      <td>0.004743</td>\n",
       "      <td>0.004743</td>\n",
       "      <td>0.005138</td>\n",
       "      <td>0.005138</td>\n",
       "      <td>0.005138</td>\n",
       "      <td>0.004743</td>\n",
       "      <td>0.004743</td>\n",
       "      <td>0.004743</td>\n",
       "      <td>...</td>\n",
       "      <td>0.005138</td>\n",
       "      <td>0.005138</td>\n",
       "      <td>0.005138</td>\n",
       "      <td>0.005138</td>\n",
       "      <td>0.004743</td>\n",
       "      <td>0.004743</td>\n",
       "      <td>0.004743</td>\n",
       "      <td>0.005138</td>\n",
       "      <td>0.005138</td>\n",
       "      <td>oxigenio</td>\n",
       "    </tr>\n",
       "    <tr>\n",
       "      <th>2</th>\n",
       "      <td>0.004348</td>\n",
       "      <td>0.004348</td>\n",
       "      <td>0.004743</td>\n",
       "      <td>0.004743</td>\n",
       "      <td>0.004743</td>\n",
       "      <td>0.005138</td>\n",
       "      <td>0.004743</td>\n",
       "      <td>0.004743</td>\n",
       "      <td>0.004743</td>\n",
       "      <td>0.004743</td>\n",
       "      <td>...</td>\n",
       "      <td>0.004743</td>\n",
       "      <td>0.004743</td>\n",
       "      <td>0.004743</td>\n",
       "      <td>0.004743</td>\n",
       "      <td>0.004743</td>\n",
       "      <td>0.004743</td>\n",
       "      <td>0.004348</td>\n",
       "      <td>0.004743</td>\n",
       "      <td>0.004743</td>\n",
       "      <td>oxigenio</td>\n",
       "    </tr>\n",
       "    <tr>\n",
       "      <th>3</th>\n",
       "      <td>0.004743</td>\n",
       "      <td>0.005138</td>\n",
       "      <td>0.005138</td>\n",
       "      <td>0.005138</td>\n",
       "      <td>0.005138</td>\n",
       "      <td>0.004743</td>\n",
       "      <td>0.004743</td>\n",
       "      <td>0.004743</td>\n",
       "      <td>0.004743</td>\n",
       "      <td>0.005138</td>\n",
       "      <td>...</td>\n",
       "      <td>0.004743</td>\n",
       "      <td>0.004743</td>\n",
       "      <td>0.004743</td>\n",
       "      <td>0.004743</td>\n",
       "      <td>0.004743</td>\n",
       "      <td>0.004743</td>\n",
       "      <td>0.004743</td>\n",
       "      <td>0.004743</td>\n",
       "      <td>0.004743</td>\n",
       "      <td>oxigenio</td>\n",
       "    </tr>\n",
       "    <tr>\n",
       "      <th>4</th>\n",
       "      <td>0.004743</td>\n",
       "      <td>0.004743</td>\n",
       "      <td>0.004743</td>\n",
       "      <td>0.005138</td>\n",
       "      <td>0.005138</td>\n",
       "      <td>0.005138</td>\n",
       "      <td>0.004743</td>\n",
       "      <td>0.004743</td>\n",
       "      <td>0.004348</td>\n",
       "      <td>0.004348</td>\n",
       "      <td>...</td>\n",
       "      <td>0.004348</td>\n",
       "      <td>0.004348</td>\n",
       "      <td>0.004348</td>\n",
       "      <td>0.004743</td>\n",
       "      <td>0.004743</td>\n",
       "      <td>0.004743</td>\n",
       "      <td>0.004743</td>\n",
       "      <td>0.004743</td>\n",
       "      <td>0.004348</td>\n",
       "      <td>oxigenio</td>\n",
       "    </tr>\n",
       "  </tbody>\n",
       "</table>\n",
       "<p>5 rows × 2032 columns</p>\n",
       "</div>"
      ],
      "text/plain": [
       "          0         1         2         3         4         5         6  \\\n",
       "0  0.004348  0.004743  0.004743  0.004743  0.004743  0.004743  0.004743   \n",
       "1  0.004743  0.004743  0.004743  0.004743  0.005138  0.005138  0.005138   \n",
       "2  0.004348  0.004348  0.004743  0.004743  0.004743  0.005138  0.004743   \n",
       "3  0.004743  0.005138  0.005138  0.005138  0.005138  0.004743  0.004743   \n",
       "4  0.004743  0.004743  0.004743  0.005138  0.005138  0.005138  0.004743   \n",
       "\n",
       "          7         8         9    ...         2022      2023      2024  \\\n",
       "0  0.004743  0.004743  0.004743    ...     0.005138  0.005138  0.005138   \n",
       "1  0.004743  0.004743  0.004743    ...     0.005138  0.005138  0.005138   \n",
       "2  0.004743  0.004743  0.004743    ...     0.004743  0.004743  0.004743   \n",
       "3  0.004743  0.004743  0.005138    ...     0.004743  0.004743  0.004743   \n",
       "4  0.004743  0.004348  0.004348    ...     0.004348  0.004348  0.004348   \n",
       "\n",
       "       2025      2026      2027      2028      2029      2030     Label  \n",
       "0  0.004743  0.004743  0.005138  0.005138  0.005138  0.004743  oxigenio  \n",
       "1  0.005138  0.004743  0.004743  0.004743  0.005138  0.005138  oxigenio  \n",
       "2  0.004743  0.004743  0.004743  0.004348  0.004743  0.004743  oxigenio  \n",
       "3  0.004743  0.004743  0.004743  0.004743  0.004743  0.004743  oxigenio  \n",
       "4  0.004743  0.004743  0.004743  0.004743  0.004743  0.004348  oxigenio  \n",
       "\n",
       "[5 rows x 2032 columns]"
      ]
     },
     "execution_count": 5,
     "metadata": {},
     "output_type": "execute_result"
    }
   ],
   "source": [
    "dataframe.head(5)"
   ]
  },
  {
   "cell_type": "code",
   "execution_count": 7,
   "metadata": {
    "collapsed": true
   },
   "outputs": [],
   "source": [
    "scaler = StandardScaler()"
   ]
  },
  {
   "cell_type": "code",
   "execution_count": 8,
   "metadata": {},
   "outputs": [
    {
     "data": {
      "text/plain": [
       "StandardScaler(copy=True, with_mean=True, with_std=True)"
      ]
     },
     "execution_count": 8,
     "metadata": {},
     "output_type": "execute_result"
    }
   ],
   "source": [
    "scaler.fit(dataframe.drop('Label',axis=1))"
   ]
  },
  {
   "cell_type": "code",
   "execution_count": 9,
   "metadata": {
    "collapsed": true
   },
   "outputs": [],
   "source": [
    "scaled_features = scaler.transform(dataframe.drop('Label',axis=1))"
   ]
  },
  {
   "cell_type": "code",
   "execution_count": 13,
   "metadata": {},
   "outputs": [],
   "source": [
    "df_feat = pd.DataFrame(scaled_features, columns = dataframe.columns[:-1])"
   ]
  },
  {
   "cell_type": "code",
   "execution_count": 18,
   "metadata": {},
   "outputs": [],
   "source": [
    "X = df_feat\n",
    "y = dataframe['Label']\n",
    "x_train, x_test, y_train, y_test = train_test_split(X,y, test_size = 0.3, random_state=101)"
   ]
  },
  {
   "cell_type": "code",
   "execution_count": 20,
   "metadata": {},
   "outputs": [
    {
     "data": {
      "text/plain": [
       "KNeighborsClassifier(algorithm='auto', leaf_size=30, metric='minkowski',\n",
       "           metric_params=None, n_jobs=1, n_neighbors=1, p=2,\n",
       "           weights='uniform')"
      ]
     },
     "execution_count": 20,
     "metadata": {},
     "output_type": "execute_result"
    }
   ],
   "source": [
    "knn = KNeighborsClassifier(n_neighbors=1)\n",
    "knn.fit(x_train,y_train)"
   ]
  },
  {
   "cell_type": "code",
   "execution_count": 21,
   "metadata": {
    "collapsed": true
   },
   "outputs": [],
   "source": [
    "pred = knn.predict(x_test)"
   ]
  },
  {
   "cell_type": "code",
   "execution_count": 23,
   "metadata": {},
   "outputs": [
    {
     "name": "stdout",
     "output_type": "stream",
     "text": [
      "[[ 688    0    0    0    0    0]\n",
      " [  92 2456   10    0    0   80]\n",
      " [   5   27  359    0    0    2]\n",
      " [   6    0    0    4    2    1]\n",
      " [ 255    0    0    1   22    0]\n",
      " [   5   62    0    0    0  349]]\n",
      "             precision    recall  f1-score   support\n",
      "\n",
      "    carbono       0.65      1.00      0.79       688\n",
      "      cloro       0.97      0.93      0.95      2638\n",
      "      cobre       0.97      0.91      0.94       393\n",
      "      ferro       0.80      0.31      0.44        13\n",
      "   oxigenio       0.92      0.08      0.15       278\n",
      "    silicio       0.81      0.84      0.82       416\n",
      "\n",
      "avg / total       0.90      0.88      0.86      4426\n",
      "\n"
     ]
    }
   ],
   "source": [
    "print(confusion_matrix(y_test,pred))\n",
    "print(classification_report(y_test,pred))"
   ]
  },
  {
   "cell_type": "code",
   "execution_count": 26,
   "metadata": {},
   "outputs": [],
   "source": [
    "error_rate=[]\n",
    "\n",
    "for i in range(1,40):\n",
    "    knn = KNeighborsClassifier(n_neighbors=i)\n",
    "    knn.fit(x_train,y_train)\n",
    "    pred_i = knn.predict(x_test)\n",
    "    error_rate.append(np.mean(pred_i != y_test))"
   ]
  },
  {
   "cell_type": "code",
   "execution_count": 38,
   "metadata": {},
   "outputs": [
    {
     "data": {
      "text/plain": [
       "Text(0,0.5,'Error Rate')"
      ]
     },
     "execution_count": 38,
     "metadata": {},
     "output_type": "execute_result"
    },
    {
     "data": {
      "image/png": "[encoded data removed]",
      "text/plain": [
       "<matplotlib.figure.Figure at 0x1c58a168ef0>"
      ]
     },
     "metadata": {},
     "output_type": "display_data"
    }
   ],
   "source": [
    "plt.figure(figsize=(10,6))\n",
    "plt.plot(range(1,40),error_rate, color='blue',linestyle='dashed',marker='o',markerfacecolor='red')\n",
    "plt.title('Error Rate vs K value')\n",
    "plt.xlabel('K')\n",
    "plt.ylabel('Error Rate')"
   ]
  },
  {
   "cell_type": "code",
   "execution_count": 39,
   "metadata": {},
   "outputs": [
    {
     "name": "stdout",
     "output_type": "stream",
     "text": [
      "[[ 687    1    0    0    0    0]\n",
      " [  90 2503    0    0    1   44]\n",
      " [   4   62  327    0    0    0]\n",
      " [   2    0    0    0   10    1]\n",
      " [ 240    0    0    0   38    0]\n",
      " [   5   61    0    0    0  350]]\n",
      "\n",
      "\n",
      "             precision    recall  f1-score   support\n",
      "\n",
      "    carbono       0.67      1.00      0.80       688\n",
      "      cloro       0.95      0.95      0.95      2638\n",
      "      cobre       1.00      0.83      0.91       393\n",
      "      ferro       0.00      0.00      0.00        13\n",
      "   oxigenio       0.78      0.14      0.23       278\n",
      "    silicio       0.89      0.84      0.86       416\n",
      "\n",
      "avg / total       0.89      0.88      0.87      4426\n",
      "\n"
     ]
    },
    {
     "name": "stderr",
     "output_type": "stream",
     "text": [
      "C:\\Users\\Jarvis\\Anaconda3\\lib\\site-packages\\sklearn\\metrics\\classification.py:1113: UndefinedMetricWarning: Precision and F-score are ill-defined and being set to 0.0 in labels with no predicted samples.\n",
      "  'precision', 'predicted', average, warn_for)\n"
     ]
    }
   ],
   "source": [
    "knnfinal = KNeighborsClassifier(n_neighbors=11)\n",
    "knnfinal.fit(x_train,y_train)\n",
    "predfinal = knn.predict(x_test)\n",
    "print(confusion_matrix(y_test,predfinal))\n",
    "print(\"\\n\")\n",
    "print(classification_report(y_test,predfinal))"
   ]
  },
  {
   "cell_type": "code",
   "execution_count": null,
   "metadata": {},
   "outputs": [],
   "source": []
  },
  {
   "cell_type": "code",
   "execution_count": null,
   "metadata": {
    "collapsed": true
   },
   "outputs": [],
   "source": []
  }
 ],
 "metadata": {
  "kernelspec": {
   "display_name": "Python 3",
   "language": "python",
   "name": "python3"
  },
  "language_info": {
   "codemirror_mode": {
    "name": "ipython",
    "version": 3
   },
   "file_extension": ".py",
   "mimetype": "text/x-python",
   "name": "python",
   "nbconvert_exporter": "python",
   "pygments_lexer": "ipython3",
   "version": "3.6.1"
  }
 },
 "nbformat": 4,
 "nbformat_minor": 2
}
